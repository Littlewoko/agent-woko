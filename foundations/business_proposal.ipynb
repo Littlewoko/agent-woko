{
 "cells": [
  {
   "cell_type": "code",
   "execution_count": null,
   "id": "f17cdd2c",
   "metadata": {},
   "outputs": [],
   "source": [
    "# load and check api keys\n",
    "\n",
    "from dotenv import load_dotenv\n",
    "load_dotenv(override=True)\n",
    "\n",
    "import os\n",
    "openai_api_key = os.getenv('OPENAI_API_KEY')\n",
    "\n",
    "if openai_api_key:\n",
    "    print(f\"OpenAI API Key exists and begins {openai_api_key[:8]}\")\n",
    "else:\n",
    "    print(\"OpenAI API Key not set - please head to the troubleshooting guide in the setup folder\")"
   ]
  },
  {
   "cell_type": "code",
   "execution_count": null,
   "id": "41f72b25",
   "metadata": {},
   "outputs": [],
   "source": [
    "# import and generate openai client\n",
    "\n",
    "from openai import OpenAI\n",
    "\n",
    "openai = OpenAI()"
   ]
  },
  {
   "cell_type": "code",
   "execution_count": null,
   "id": "0aa5480a",
   "metadata": {},
   "outputs": [],
   "source": [
    "# identify, propose, and generate a business proposal for a product that is rife for an agentic ai solution\n",
    "\n",
    "# Identify a business area\n",
    "messages = [{\"role\": \"user\", \"content\": \"Please propose a business area that is worth exploring for an Agentic AI opportunity. Respond only with the area, no other text.\"}]\n",
    "\n",
    "response = openai.chat.completions.create(\n",
    "    model=\"gpt-4.1-mini\",\n",
    "    messages=messages\n",
    ")\n",
    "\n",
    "area = response.choices[0].message.content\n",
    "\n",
    "# Identify a pain point\n",
    "messages = [{\"role\": \"user\", \"content\": f\"Please propose a pain point in the following business area, something challenging that could be solved by an Agentic AI. The business area is: {area}\"}]\n",
    "\n",
    "pain_point_response = openai.chat.completions.create(\n",
    "    model=\"gpt-4.1-mini\",\n",
    "    messages=messages\n",
    ")\n",
    "\n",
    "pain_point = pain_point_response.choices[0].message.content\n",
    "\n",
    "# Identify a solution\n",
    "messages = [{\"role\": \"user\", \"content\": f\"Please propose a solution to the following pain point in the business area, something that could be solved by an Agentic AI. The pain point is: {pain_point}. The business area is: {area}\"}]\n",
    "\n",
    "solution_response = openai.chat.completions.create(\n",
    "    model=\"gpt-4.1-mini\",\n",
    "    messages=messages\n",
    ")\n",
    "\n",
    "solution = solution_response.choices[0].message.content"
   ]
  },
  {
   "cell_type": "code",
   "execution_count": null,
   "id": "ac5b2d1a",
   "metadata": {},
   "outputs": [],
   "source": [
    "# display the solution\n",
    "\n",
    "from IPython.display import Markdown, display\n",
    "display(Markdown(solution))"
   ]
  }
 ],
 "metadata": {
  "kernelspec": {
   "display_name": ".venv",
   "language": "python",
   "name": "python3"
  },
  "language_info": {
   "codemirror_mode": {
    "name": "ipython",
    "version": 3
   },
   "file_extension": ".py",
   "mimetype": "text/x-python",
   "name": "python",
   "nbconvert_exporter": "python",
   "pygments_lexer": "ipython3",
   "version": "3.12.11"
  }
 },
 "nbformat": 4,
 "nbformat_minor": 5
}
